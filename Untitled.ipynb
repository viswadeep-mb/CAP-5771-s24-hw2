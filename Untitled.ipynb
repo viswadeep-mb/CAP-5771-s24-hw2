{
 "cells": [
  {
   "cell_type": "code",
   "execution_count": 1,
   "id": "35ecd5a1-c60c-47bc-84ec-21795af98e43",
   "metadata": {},
   "outputs": [],
   "source": [
    "def load_dict(filenm, dct):\n",
    "    with open(filenm, \"rb\") as file:\n",
    "        loaded_data = pickle.load(file)\n",
    "        return loaded_data\n",
    "    raise \"load_dict:: Error loading data\""
   ]
  },
  {
   "cell_type": "code",
   "execution_count": 2,
   "id": "d963002e-7551-45b5-9da0-d3cd659eceba",
   "metadata": {},
   "outputs": [
    {
     "ename": "NameError",
     "evalue": "name 'dct' is not defined",
     "output_type": "error",
     "traceback": [
      "\u001b[0;31m---------------------------------------------------------------------------\u001b[0m",
      "\u001b[0;31mNameError\u001b[0m                                 Traceback (most recent call last)",
      "Cell \u001b[0;32mIn[2], line 1\u001b[0m\n\u001b[0;32m----> 1\u001b[0m ans\u001b[38;5;241m=\u001b[39mload_dict(\u001b[38;5;124m\"\u001b[39m\u001b[38;5;124manswers.pkl\u001b[39m\u001b[38;5;124m\"\u001b[39m,\u001b[43mdct\u001b[49m)\n",
      "\u001b[0;31mNameError\u001b[0m: name 'dct' is not defined"
     ]
    }
   ],
   "source": [
    "ans=load_dict(\"answers.pkl\",dct)"
   ]
  },
  {
   "cell_type": "code",
   "execution_count": 10,
   "id": "e7cc16bc-6345-4464-a351-75113d3ba4b8",
   "metadata": {},
   "outputs": [
    {
     "data": {
      "text/plain": [
       "1.1509538960381394"
      ]
     },
     "execution_count": 10,
     "metadata": {},
     "output_type": "execute_result"
    }
   ],
   "source": [
    "import math\n",
    "Area_A=0.09\n",
    "Area_B=0.42\n",
    "Area_C=0.09\n",
    "ent_total=-(Area_A*math.log(Area_A,2) + Area_B*math.log(Area_B,2)+ Area_C*math.log(Area_C,2) )\n",
    "ent_total"
   ]
  },
  {
   "cell_type": "code",
   "execution_count": 21,
   "id": "8ab6081e-35a1-423d-ac45-3343f52465f6",
   "metadata": {},
   "outputs": [
    {
     "data": {
      "text/plain": [
       "BinaryTree(smoking)"
      ]
     },
     "execution_count": 21,
     "metadata": {},
     "output_type": "execute_result"
    }
   ],
   "source": [
    "import utils as u\n",
    "tree=u.BinaryTree(\"smoking\")\n",
    "tree.insert_left(\"cough\")\n",
    "tree.insert_right(\"radon\")\n",
    "tree.left.insert_left(\"yes\")\n",
    "tree.left.insert_right(\"no\")\n",
    "tree.right.insert_left(\"yes\")\n",
    "tree.right.insert_right(\"no\")\n",
    "\n",
    "tree"
   ]
  },
  {
   "cell_type": "code",
   "execution_count": 10,
   "id": "efd0e357-37e3-4107-8aac-3012e6f39594",
   "metadata": {},
   "outputs": [
    {
     "data": {
      "text/plain": [
       "0.029100000000000015"
      ]
     },
     "execution_count": 10,
     "metadata": {},
     "output_type": "execute_result"
    }
   ],
   "source": [
    "1-0.9709"
   ]
  },
  {
   "cell_type": "code",
   "execution_count": 11,
   "id": "3863298e-9576-47a6-b794-ea068e59d279",
   "metadata": {},
   "outputs": [
    {
     "data": {
      "text/plain": [
       "0.07299999999999995"
      ]
     },
     "execution_count": 11,
     "metadata": {},
     "output_type": "execute_result"
    }
   ],
   "source": [
    "0.7219-0.6489"
   ]
  },
  {
   "cell_type": "code",
   "execution_count": 19,
   "id": "8ea4e892-f953-4488-aa22-8cffd02f9371",
   "metadata": {},
   "outputs": [],
   "source": [
    "import utils as u\n",
    "import all_questions as a"
   ]
  },
  {
   "cell_type": "code",
   "execution_count": 20,
   "id": "a81103d8-efce-4767-9a26-f0fec8e8aee7",
   "metadata": {},
   "outputs": [
    {
     "ename": "AttributeError",
     "evalue": "'function' object has no attribute 'insert_left'",
     "output_type": "error",
     "traceback": [
      "\u001b[0;31m---------------------------------------------------------------------------\u001b[0m",
      "\u001b[0;31mAttributeError\u001b[0m                            Traceback (most recent call last)",
      "Cell \u001b[0;32mIn[20], line 1\u001b[0m\n\u001b[0;32m----> 1\u001b[0m \u001b[43ma\u001b[49m\u001b[38;5;241;43m.\u001b[39;49m\u001b[43mquestion1\u001b[49m\u001b[43m(\u001b[49m\u001b[43m)\u001b[49m\n",
      "File \u001b[0;32m~/Documents/DS/Data_Mining/CAP-5771-s24-hw2/all_questions.py:70\u001b[0m, in \u001b[0;36mquestion1\u001b[0;34m()\u001b[0m\n\u001b[1;32m     68\u001b[0m tree\u001b[38;5;241m.\u001b[39minsert_left(\u001b[38;5;124m\"\u001b[39m\u001b[38;5;124mcough\u001b[39m\u001b[38;5;124m\"\u001b[39m)\n\u001b[1;32m     69\u001b[0m tree\u001b[38;5;241m.\u001b[39minsert_right(\u001b[38;5;124m\"\u001b[39m\u001b[38;5;124mradon\u001b[39m\u001b[38;5;124m\"\u001b[39m)\n\u001b[0;32m---> 70\u001b[0m tree\u001b[38;5;241m.\u001b[39mleft\u001b[38;5;241m.\u001b[39minsert_left(\u001b[38;5;124m\"\u001b[39m\u001b[38;5;124myes\u001b[39m\u001b[38;5;124m\"\u001b[39m)\n\u001b[1;32m     71\u001b[0m tree\u001b[38;5;241m.\u001b[39mleft\u001b[38;5;241m.\u001b[39minsert_right(\u001b[38;5;124m\"\u001b[39m\u001b[38;5;124mno\u001b[39m\u001b[38;5;124m\"\u001b[39m)\n\u001b[1;32m     72\u001b[0m tree\u001b[38;5;241m.\u001b[39mright\u001b[38;5;241m.\u001b[39minsert_left(\u001b[38;5;124m\"\u001b[39m\u001b[38;5;124myes\u001b[39m\u001b[38;5;124m\"\u001b[39m)\n",
      "\u001b[0;31mAttributeError\u001b[0m: 'function' object has no attribute 'insert_left'"
     ]
    }
   ],
   "source": [
    "a.question1()"
   ]
  }
 ],
 "metadata": {
  "kernelspec": {
   "display_name": "Python 3 (ipykernel)",
   "language": "python",
   "name": "python3"
  },
  "language_info": {
   "codemirror_mode": {
    "name": "ipython",
    "version": 3
   },
   "file_extension": ".py",
   "mimetype": "text/x-python",
   "name": "python",
   "nbconvert_exporter": "python",
   "pygments_lexer": "ipython3",
   "version": "3.12.1"
  }
 },
 "nbformat": 4,
 "nbformat_minor": 5
}
