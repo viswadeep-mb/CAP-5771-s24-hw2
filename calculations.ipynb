{
 "cells": [
  {
   "cell_type": "code",
   "execution_count": 49,
   "id": "6c6c504a",
   "metadata": {},
   "outputs": [],
   "source": [
    "import math "
   ]
  },
  {
   "cell_type": "markdown",
   "id": "361495a3-5e0d-44c7-9e42-8e38208a1f90",
   "metadata": {},
   "source": [
    "**question1**"
   ]
  },
  {
   "cell_type": "code",
   "execution_count": 52,
   "id": "2db700d2",
   "metadata": {},
   "outputs": [
    {
     "data": {
      "text/plain": [
       "0.2780719051126377"
      ]
     },
     "execution_count": 52,
     "metadata": {},
     "output_type": "execute_result"
    }
   ],
   "source": [
    "smo=((-4/5)* math.log(4/5,2) - (1/5)* math.log(1/5,2))\n",
    "entropy"
   ]
  },
  {
   "cell_type": "code",
   "execution_count": 53,
   "id": "8be0e763",
   "metadata": {},
   "outputs": [
    {
     "data": {
      "text/plain": [
       "0.23645279766002802"
      ]
     },
     "execution_count": 53,
     "metadata": {},
     "output_type": "execute_result"
    }
   ],
   "source": [
    "1- 0.8* ((-3/8)* math.log(3/8,2) - (5/8)* math.log(5/8,2))"
   ]
  },
  {
   "cell_type": "code",
   "execution_count": 10,
   "id": "74ab96d5",
   "metadata": {},
   "outputs": [
    {
     "data": {
      "text/plain": [
       "0.7635200000000001"
      ]
     },
     "execution_count": 10,
     "metadata": {},
     "output_type": "execute_result"
    }
   ],
   "source": [
    "8/10*0.9544"
   ]
  },
  {
   "cell_type": "code",
   "execution_count": 11,
   "id": "b4af6d1d",
   "metadata": {},
   "outputs": [
    {
     "data": {
      "text/plain": [
       "0.9852281360342516"
      ]
     },
     "execution_count": 11,
     "metadata": {},
     "output_type": "execute_result"
    }
   ],
   "source": [
    "(-4/7)* math.log(4/7,2) - (3/7)* math.log(3/7,2)"
   ]
  },
  {
   "cell_type": "code",
   "execution_count": 12,
   "id": "f9e34504",
   "metadata": {},
   "outputs": [
    {
     "data": {
      "text/plain": [
       "0.9182958340544896"
      ]
     },
     "execution_count": 12,
     "metadata": {},
     "output_type": "execute_result"
    }
   ],
   "source": [
    "(-1/3)* math.log(1/3,2) - (2/3)* math.log(2/3,2)"
   ]
  },
  {
   "cell_type": "code",
   "execution_count": 13,
   "id": "d408258f",
   "metadata": {},
   "outputs": [
    {
     "data": {
      "text/plain": [
       "0.9650999999999998"
      ]
     },
     "execution_count": 13,
     "metadata": {},
     "output_type": "execute_result"
    }
   ],
   "source": [
    "((7/10)* 0.9852) +((3/10)*0.9182)"
   ]
  },
  {
   "cell_type": "code",
   "execution_count": 14,
   "id": "9a2aded5",
   "metadata": {},
   "outputs": [
    {
     "data": {
      "text/plain": [
       "0.9709505944546686"
      ]
     },
     "execution_count": 14,
     "metadata": {},
     "output_type": "execute_result"
    }
   ],
   "source": [
    "(-3/5)* math.log(3/5,2) - (2/5)* math.log(2/5,2)"
   ]
  },
  {
   "cell_type": "markdown",
   "id": "7de2273d-febc-4985-9bf7-3d0dc70532f2",
   "metadata": {},
   "source": [
    "**question 2**"
   ]
  },
  {
   "cell_type": "markdown",
   "id": "95a68694-78a1-4bf1-9d86-ce3c663a31ea",
   "metadata": {},
   "source": [
    "**2A**"
   ]
  },
  {
   "cell_type": "code",
   "execution_count": 10,
   "id": "7bc41d09",
   "metadata": {
    "scrolled": true
   },
   "outputs": [
    {
     "data": {
      "text/plain": [
       "1.4253642047367425"
      ]
     },
     "execution_count": 10,
     "metadata": {},
     "output_type": "execute_result"
    }
   ],
   "source": [
    "#entropy of parent\n",
    "e_p=-0.41*(math.log(0.41,2))-0.46*(math.log(0.46,2))-0.13*(math.log(0.13,2))\n",
    "e_p"
   ]
  },
  {
   "cell_type": "markdown",
   "id": "971e29a5-b787-4e35-aba9-9eed3ec6402f",
   "metadata": {},
   "source": [
    "**2B**"
   ]
  },
  {
   "cell_type": "code",
   "execution_count": 17,
   "id": "6a80ce34",
   "metadata": {},
   "outputs": [
    {
     "name": "stdout",
     "output_type": "stream",
     "text": [
      "0.7219280948873625\n",
      "1.3794821565051398\n",
      "1.2479713441815845\n"
     ]
    },
    {
     "data": {
      "text/plain": [
       "0.17739286055515802"
      ]
     },
     "execution_count": 17,
     "metadata": {},
     "output_type": "execute_result"
    }
   ],
   "source": [
    "#x<0.2\n",
    "\n",
    "x02_l=-(0.04/0.2)*(math.log(0.04/0.2,2))-(0.16/0.2)*(math.log(0.16/0.2,2))\n",
    "print(x02_l)\n",
    "\n",
    "x02_r=-(0.41/0.8)*(math.log(0.41/0.8,2))-(0.3/0.8)*(math.log(0.3/0.8,2))-(0.09/0.8)*(math.log(0.09/0.8,2))\n",
    "print(x02_r)\n",
    "\n",
    "#wt_entropy\n",
    "x02=0.2*x02_l + 0.8*x02_r\n",
    "print(x02)\n",
    "\n",
    "#info_gain x<0.2\n",
    "info_x02=e_p-x02\n",
    "info_x02\n"
   ]
  },
  {
   "cell_type": "code",
   "execution_count": 16,
   "id": "8c0db156",
   "metadata": {},
   "outputs": [
    {
     "name": "stdout",
     "output_type": "stream",
     "text": [
      "1.1503914187111115\n",
      "0.8812908992306927\n",
      "1.069661262866986\n"
     ]
    },
    {
     "data": {
      "text/plain": [
       "0.3557029418697566"
      ]
     },
     "execution_count": 16,
     "metadata": {},
     "output_type": "execute_result"
    }
   ],
   "source": [
    "#x<0.7\n",
    "x07_l=-0.2/0.7*(math.log(0.2/0.7,2))-0.46/0.7*(math.log(0.46/0.7,2))-0.04/0.7*(math.log(0.04/0.7,2))\n",
    "print(x07_l)\n",
    "\n",
    "x07_r=-0.21/0.3*(math.log(0.21/0.3,2))-0-0.09/0.3*(math.log(0.09/0.3,2))\n",
    "print(x07_r)\n",
    "\n",
    "x07=0.7*x07_l + 0.3*x07_r\n",
    "print(x07)\n",
    "\n",
    "#info_gain x<0.7\n",
    "info_x07=e_p-x07\n",
    "info_x07"
   ]
  },
  {
   "cell_type": "code",
   "execution_count": 18,
   "id": "508ffb4c-1547-49eb-b771-e845042c73ea",
   "metadata": {},
   "outputs": [
    {
     "name": "stdout",
     "output_type": "stream",
     "text": [
      "1.1812908992306925\n",
      "0.9219280948873625\n",
      "1.0775457774933606\n"
     ]
    },
    {
     "data": {
      "text/plain": [
       "0.34781842724338197"
      ]
     },
     "execution_count": 18,
     "metadata": {},
     "output_type": "execute_result"
    }
   ],
   "source": [
    "#y<0.6\n",
    "y06_l=-0.09/0.6*(math.log(0.09/0.6,2))-0.42/0.6*(math.log(0.42/0.6,2))-0.09/0.6*(math.log(0.09/0.6,2))\n",
    "print(y06_l)\n",
    "\n",
    "y06_r=-0.32/0.4*(math.log(0.32/0.4,2))-0.04/0.4*(math.log(0.04/0.4,2))-0.04/0.4*(math.log(0.04/0.4,2))\n",
    "print(y06_r)\n",
    "\n",
    "y06=0.6*y06_l + 0.4*y06_r\n",
    "print(y06)\n",
    "\n",
    "#info_gain x<0.7\n",
    "info_y06=e_p-y06\n",
    "info_y06"
   ]
  },
  {
   "cell_type": "markdown",
   "id": "07a0342c-27ba-4397-8d64-632de23257d4",
   "metadata": {},
   "source": [
    "**2D**"
   ]
  },
  {
   "cell_type": "code",
   "execution_count": 21,
   "id": "d0cc6de9",
   "metadata": {},
   "outputs": [
    {
     "name": "stdout",
     "output_type": "stream",
     "text": [
      "1.4384349344259844\n",
      "0.7219280948873625\n",
      "1.2951335665182602\n"
     ]
    },
    {
     "data": {
      "text/plain": [
       "0.13023063821848235"
      ]
     },
     "execution_count": 21,
     "metadata": {},
     "output_type": "execute_result"
    }
   ],
   "source": [
    "#y=0.8\n",
    "\n",
    "y08_l=-0.25/0.8*(math.log(0.25/0.8,2))-0.42/0.8*(math.log(0.42/0.8,2))-0.13/0.8*(math.log(0.13/0.8,2))\n",
    "print(y08_l)\n",
    "\n",
    "y08_r=-0.16/0.2*(math.log(0.16/0.2,2))-0.04/0.2*(math.log(0.04/0.2,2))-0\n",
    "print(y08_r)\n",
    "\n",
    "y08=0.8*y08_l + 0.2*y08_r\n",
    "print(y08)\n",
    "\n",
    "#info_gain x<0.7\n",
    "info_y08=e_p-y08\n",
    "info_y08"
   ]
  },
  {
   "cell_type": "code",
   "execution_count": 26,
   "id": "43cbc8c0-69c6-4d01-9fcc-e9d22316bda6",
   "metadata": {},
   "outputs": [],
   "source": [
    "def entropy(l):\n",
    "    entr=0\n",
    "    for i in l:\n",
    "        entr+=i*math.log(i,2)\n",
    "    return -entr"
   ]
  },
  {
   "cell_type": "code",
   "execution_count": 34,
   "id": "f1fe7cbd-68f0-4826-a94d-e6b37e88b843",
   "metadata": {},
   "outputs": [
    {
     "name": "stdout",
     "output_type": "stream",
     "text": [
      "1.1503914187111115\n"
     ]
    }
   ],
   "source": [
    "##root node selected x<0.7\n",
    "#calculations for Left hand side of x<0.7\n",
    "\n",
    "##entropy of parent (left side of tree)\n",
    "#-0.2/0.7*(math.log(0.2/0.7,2))-0.46/0.7*(math.log(0.46/0.7,2))-0.04/0.7*(math.log(0.04/0.7,2))\n",
    "e_p_l1=entropy([0.2/0.7,0.46/0.7,0.04/0.7])\n",
    "print(e_p_l1)"
   ]
  },
  {
   "cell_type": "code",
   "execution_count": 37,
   "id": "1036e84d-9e40-4b79-9c35-c6d2d9f3def1",
   "metadata": {},
   "outputs": [
    {
     "name": "stdout",
     "output_type": "stream",
     "text": [
      "-0.0\n",
      "1.1488348542809168\n",
      "0.32167375919865676\n",
      "info_y06: 0.8287176595124548\n",
      "1.0270582666007908\n",
      "0.863120568566631\n",
      "0.6959895088957713\n",
      "info_y08: 0.45440190981534023\n",
      "0.7219280948873625\n",
      "0.9709505944546686\n",
      "0.6298609162048068\n",
      "info_x02: 0.5205305025063047\n"
     ]
    }
   ],
   "source": [
    "#y<0.6\n",
    "y06_l=entropy([1])\n",
    "print(y06_l)\n",
    "y06_r=entropy([0.2/0.28,0.04/0.28,0.04/0.28])\n",
    "print(y06_r)\n",
    "y06=0.42*y06_l + 0.28*y06_r\n",
    "print(y06)\n",
    "#info_gain \n",
    "info_y06=e_p_l1-y06\n",
    "print(\"info_y06:\",info_y06)\n",
    "\n",
    "#y<0.8\n",
    "y08_l=entropy([0.42/0.56,0.10/0.56,0.04/0.56])\n",
    "print(y08_l)\n",
    "y08_r=entropy([0.10/0.14,0.04/0.14])\n",
    "print(y08_r)\n",
    "y08=0.56*y08_l + 0.14*y08_r\n",
    "print(y08)\n",
    "#info_gain \n",
    "info_y08=e_p_l1-y08\n",
    "print(\"info_y08:\",info_y08)\n",
    "\n",
    "#x<0.2\n",
    "x02_l=entropy([0.16/0.2,0.04/0.2])\n",
    "print(x02_l)\n",
    "x02_r=entropy([0.2/0.5,0.3/0.5])\n",
    "print(x02_r)\n",
    "x02=0.2*x02_l + 0.5*x02_r\n",
    "print(x02)\n",
    "#info_gain \n",
    "info_x02=e_p_l1-x02\n",
    "print(\"info_x02:\",info_x02)"
   ]
  },
  {
   "cell_type": "markdown",
   "id": "a60b47ae-17a2-43a3-b3a4-f3ddaaa63da8",
   "metadata": {},
   "source": [
    "from above info-gains --> maximum info gain is obtained for y<0.6 considered as node in Left hand"
   ]
  },
  {
   "cell_type": "markdown",
   "id": "53da173f-32e9-42f3-8a93-8d42b25dc63a",
   "metadata": {},
   "source": [
    "left side of y<0.6 is pure, left side is considered as leaf node (with value=B)"
   ]
  },
  {
   "cell_type": "code",
   "execution_count": 43,
   "id": "84270349-0637-419f-bc20-dae2612e27be",
   "metadata": {},
   "outputs": [
    {
     "name": "stdout",
     "output_type": "stream",
     "text": [
      "1.1488348542809168\n",
      "1.0\n",
      "-0.0\n",
      "0.08\n",
      "info_x02: 1.0688348542809167\n",
      "0.863120568566631\n",
      "0.863120568566631\n",
      "0.2416737591986567\n",
      "info_y08: 0.9071610950822602\n"
     ]
    }
   ],
   "source": [
    "##calculations for right side of y<0.6\n",
    "\n",
    "e_p_r_y06=entropy([0.2/0.28,0.04/0.28,0.04/0.28])\n",
    "print(e_p_r_y06)\n",
    "\n",
    "\n",
    "#x<0.2\n",
    "x02_l=entropy([0.04/0.08,0.04/0.08])\n",
    "print(x02_l)\n",
    "x02_r=entropy([0.2/0.2])\n",
    "print(x02_r)\n",
    "x02=0.08*x02_l + 0.2*x02_r\n",
    "print(x02)\n",
    "#info_gain \n",
    "info_x02=e_p_r_y06-x02\n",
    "print(\"info_x02:\",info_x02)\n",
    "\n",
    "#y<0.8\n",
    "y08_l=entropy([0.04/0.14,0.10/0.14])\n",
    "print(y08_l)\n",
    "y08_r=entropy([0.04/0.14,0.10/0.14])\n",
    "print(y08_r)\n",
    "y08=0.14*y08_l + 0.14*y08_r\n",
    "print(y08)\n",
    "#info_gain \n",
    "info_y08=e_p_r_y06-y08\n",
    "print(\"info_y08:\",info_y08)\n",
    "\n"
   ]
  },
  {
   "cell_type": "markdown",
   "id": "06f27299-ae6a-4702-8596-0269b38fb203",
   "metadata": {},
   "source": [
    "for right side of y<0.6 -->maximum info gain is obtained for x<0.2 considered as node in Left hand"
   ]
  },
  {
   "cell_type": "markdown",
   "id": "b5925d49-99d1-4b52-beea-78663ab5fcdd",
   "metadata": {},
   "source": [
    "for node x<0.2 --> right side is pure (with value A) considered as left node"
   ]
  },
  {
   "cell_type": "markdown",
   "id": "1285dcea-e89c-4b82-b89a-5735e64ec6fb",
   "metadata": {},
   "source": [
    "left side of x<0.2 --> only 1 split criteria is possible which is y<0.8 for leaf nodes"
   ]
  },
  {
   "cell_type": "code",
   "execution_count": 38,
   "id": "819a37ad-c0a5-4a10-b51a-bfa5d46ce670",
   "metadata": {},
   "outputs": [
    {
     "name": "stdout",
     "output_type": "stream",
     "text": [
      "0.8812908992306927\n"
     ]
    }
   ],
   "source": [
    "#calculations for Right hand side of x<0.7\n",
    "\n",
    "##entropy of parent (Right side of tree)\n",
    "e_p_r1=entropy([0.21/0.3,0.09/0.3])\n",
    "print(e_p_r1)"
   ]
  },
  {
   "cell_type": "code",
   "execution_count": 45,
   "id": "fca614bb-0585-454e-a89c-5b88fb9f0993",
   "metadata": {},
   "outputs": [
    {
     "name": "stdout",
     "output_type": "stream",
     "text": [
      "1.0\n",
      "-0.0\n",
      "0.18\n",
      "info_y06: 0.7012908992306928\n",
      "-0.0\n",
      "0.9852281360342516\n",
      "0.20689790856719284\n",
      "info_y03: 0.6743929906634999\n"
     ]
    }
   ],
   "source": [
    "#y<0.6\n",
    "y06_l=entropy([0.09/0.18,0.09/0.18])\n",
    "print(y06_l)\n",
    "y06_r=entropy([0.12/0.12])\n",
    "print(y06_r)\n",
    "y06=0.18*y06_l + 0.12*y06_r\n",
    "print(y06)\n",
    "#info_gain x<0.7\n",
    "info_y06=e_p_r1-y06\n",
    "print(\"info_y06:\",info_y06)\n",
    "\n",
    "#y<0.3\n",
    "y03_l=entropy([0.09/0.09])\n",
    "print(y03_l)\n",
    "y03_r=entropy([0.12/0.21,0.09/0.21])\n",
    "print(y03_r)\n",
    "y03=0.09*y03_l + 0.21*y03_r\n",
    "print(y03)\n",
    "#info_gain \n",
    "info_y03=e_p_r1-y03\n",
    "print(\"info_y03:\",info_y03)"
   ]
  },
  {
   "cell_type": "markdown",
   "id": "2d58601f-0378-4637-b5f8-16970487e3cd",
   "metadata": {},
   "source": [
    "maximum info gain is obtained for y<0.6 considered as node in Right hand"
   ]
  },
  {
   "cell_type": "markdown",
   "id": "4d4c2ef6-0c07-48a6-9c7a-0b1b25e1de94",
   "metadata": {},
   "source": [
    "right side of y<0.6 is pure, right side is considered as leaf node (with value=A)"
   ]
  },
  {
   "cell_type": "markdown",
   "id": "dfffbd83-44a3-47cb-94d5-d0961ced0858",
   "metadata": {},
   "source": [
    "left side of y<0.6 --> only 1 split criteria is possible which is y<0.3 for leaf nodes"
   ]
  },
  {
   "cell_type": "code",
   "execution_count": 48,
   "id": "f2375189",
   "metadata": {},
   "outputs": [
    {
     "name": "stdout",
     "output_type": "stream",
     "text": [
      "BinaryTree(x<0.7)\n",
      "\tBinaryTree(y<0.6)\n",
      "\t\tBinaryTree(B)\n",
      "\t\tBinaryTree(x<0.2)\n",
      "\t\t\tBinaryTree(y<0.8)\n",
      "\t\t\t\tBinaryTree(C)\n",
      "\t\t\t\tBinaryTree(B)\n",
      "\t\t\tBinaryTree(A)\n",
      "\tBinaryTree(y<0.6)\n",
      "\t\tBinaryTree(y<0.3)\n",
      "\t\t\tBinaryTree(A)\n",
      "\t\t\tBinaryTree(C)\n",
      "\t\tBinaryTree(A)\n",
      "\n"
     ]
    }
   ],
   "source": [
    "import utils as u\n",
    "tree = u.BinaryTree(\"x<0.7\")\n",
    "\n",
    "A=tree.insert_left(\"y<0.6\")\n",
    "A.insert_left(\"B\")\n",
    "C=A.insert_right(\"x<0.2\")\n",
    "D=C.insert_left(\"y<0.8\")\n",
    "C.insert_right(\"A\")\n",
    "D.insert_left(\"C\")\n",
    "D.insert_right(\"B\")\n",
    "\n",
    "B=tree.insert_right(\"y<0.6\")\n",
    "E=B.insert_left(\"y<0.3\")\n",
    "B.insert_right(\"A\")\n",
    "E.insert_left(\"A\")\n",
    "E.insert_right(\"C\")\n",
    "\n",
    "print(tree)"
   ]
  },
  {
   "cell_type": "code",
   "execution_count": null,
   "id": "2e1a0310-0368-4a01-8599-4b7539b464ac",
   "metadata": {},
   "outputs": [],
   "source": []
  },
  {
   "cell_type": "code",
   "execution_count": null,
   "id": "8b79850e-b88b-4a6a-a2a9-a96c8b25400e",
   "metadata": {},
   "outputs": [],
   "source": []
  },
  {
   "cell_type": "code",
   "execution_count": null,
   "id": "c4d00880-e1b5-4dda-9221-64fde4d1a90a",
   "metadata": {},
   "outputs": [],
   "source": []
  },
  {
   "cell_type": "code",
   "execution_count": null,
   "id": "0987621f-a43b-4919-8fc3-de6f2f9d8488",
   "metadata": {},
   "outputs": [],
   "source": [
    "question 3 - d"
   ]
  },
  {
   "cell_type": "code",
   "execution_count": 9,
   "id": "43c16761",
   "metadata": {},
   "outputs": [
    {
     "data": {
      "text/plain": [
       "0.265"
      ]
     },
     "execution_count": 9,
     "metadata": {},
     "output_type": "execute_result"
    }
   ],
   "source": [
    " ((5/20)*(5/20)) +  ((7/20)*(7/20))+  ((4/20)*(4/20))+((4/20)*(4/20)) "
   ]
  },
  {
   "cell_type": "code",
   "execution_count": 10,
   "id": "6f794266",
   "metadata": {},
   "outputs": [
    {
     "data": {
      "text/plain": [
       "0.735"
      ]
     },
     "execution_count": 10,
     "metadata": {},
     "output_type": "execute_result"
    }
   ],
   "source": [
    "1- 0.265"
   ]
  },
  {
   "cell_type": "code",
   "execution_count": null,
   "id": "1876c59d",
   "metadata": {},
   "outputs": [],
   "source": [
    "question 7 -a"
   ]
  },
  {
   "cell_type": "code",
   "execution_count": 15,
   "id": "78854303",
   "metadata": {},
   "outputs": [
    {
     "data": {
      "text/plain": [
       "-4.321928094887363"
      ]
     },
     "execution_count": 15,
     "metadata": {},
     "output_type": "execute_result"
    }
   ],
   "source": [
    "(math.log(1/20,2))"
   ]
  },
  {
   "cell_type": "code",
   "execution_count": 16,
   "id": "b25a3980",
   "metadata": {},
   "outputs": [
    {
     "data": {
      "text/plain": [
       "-1.0"
      ]
     },
     "execution_count": 16,
     "metadata": {},
     "output_type": "execute_result"
    }
   ],
   "source": [
    "math.log(10/20,2)"
   ]
  },
  {
   "cell_type": "code",
   "execution_count": 17,
   "id": "fbf965ff",
   "metadata": {},
   "outputs": [
    {
     "data": {
      "text/plain": [
       "-1.0"
      ]
     },
     "execution_count": 17,
     "metadata": {},
     "output_type": "execute_result"
    }
   ],
   "source": [
    "math.log(0.5,2)"
   ]
  },
  {
   "cell_type": "code",
   "execution_count": 20,
   "id": "e5f74bdb",
   "metadata": {},
   "outputs": [
    {
     "data": {
      "text/plain": [
       "1.0"
      ]
     },
     "execution_count": 20,
     "metadata": {},
     "output_type": "execute_result"
    }
   ],
   "source": [
    "-(10/20)*math.log(10/20,2)-(10/20)*math.log(10/20,2)"
   ]
  },
  {
   "cell_type": "code",
   "execution_count": 22,
   "id": "78db8547",
   "metadata": {},
   "outputs": [
    {
     "data": {
      "text/plain": [
       "-4.321928094887363"
      ]
     },
     "execution_count": 22,
     "metadata": {},
     "output_type": "execute_result"
    }
   ],
   "source": [
    "math.log(0.05,2)"
   ]
  },
  {
   "cell_type": "code",
   "execution_count": null,
   "id": "09d66ac3",
   "metadata": {},
   "outputs": [],
   "source": [
    "question 7 -b"
   ]
  },
  {
   "cell_type": "code",
   "execution_count": 23,
   "id": "a21f307d",
   "metadata": {},
   "outputs": [
    {
     "data": {
      "text/plain": [
       "0.4689955935892812"
      ]
     },
     "execution_count": 23,
     "metadata": {},
     "output_type": "execute_result"
    }
   ],
   "source": [
    "-(9/10)*math.log(9/10,2)-(1/10)*math.log(1/10,2)"
   ]
  },
  {
   "cell_type": "code",
   "execution_count": 26,
   "id": "e82bbbb2",
   "metadata": {},
   "outputs": [
    {
     "data": {
      "text/plain": [
       "0.48"
      ]
     },
     "execution_count": 26,
     "metadata": {},
     "output_type": "execute_result"
    }
   ],
   "source": [
    "(1/2*0.48)+(1/2*0.48)"
   ]
  },
  {
   "cell_type": "code",
   "execution_count": 30,
   "id": "7c8d0985",
   "metadata": {},
   "outputs": [
    {
     "data": {
      "text/plain": [
       "0.33999999999999986"
      ]
     },
     "execution_count": 30,
     "metadata": {},
     "output_type": "execute_result"
    }
   ],
   "source": [
    "1 - ( ((1/10)*(1/10)) + ((1/10)*(1/10))+((8/10)*(8/10)))"
   ]
  },
  {
   "cell_type": "code",
   "execution_count": 31,
   "id": "59dd9846",
   "metadata": {},
   "outputs": [
    {
     "data": {
      "text/plain": [
       "0.42000000000000004"
      ]
     },
     "execution_count": 31,
     "metadata": {},
     "output_type": "execute_result"
    }
   ],
   "source": [
    "1 - ( ((3/10)*(3/10)) + ((7/10)*(7/10)))"
   ]
  },
  {
   "cell_type": "code",
   "execution_count": 32,
   "id": "40947c24",
   "metadata": {},
   "outputs": [
    {
     "data": {
      "text/plain": [
       "0.3795"
      ]
     },
     "execution_count": 32,
     "metadata": {},
     "output_type": "execute_result"
    }
   ],
   "source": [
    "(1/2*0.339)+(1/2*0.42)"
   ]
  },
  {
   "cell_type": "code",
   "execution_count": 34,
   "id": "49d674d6",
   "metadata": {},
   "outputs": [
    {
     "data": {
      "text/plain": [
       "0.375"
      ]
     },
     "execution_count": 34,
     "metadata": {},
     "output_type": "execute_result"
    }
   ],
   "source": [
    " 1- ( ((1/4)*(1/4)) + ((3/4)*(3/4)) )"
   ]
  },
  {
   "cell_type": "code",
   "execution_count": 35,
   "id": "d6d8e5e2",
   "metadata": {},
   "outputs": [
    {
     "data": {
      "text/plain": [
       "0.21875"
      ]
     },
     "execution_count": 35,
     "metadata": {},
     "output_type": "execute_result"
    }
   ],
   "source": [
    " 1- ( ((1/8)*(1/8)) + ((7/8)*(7/8)) )"
   ]
  },
  {
   "cell_type": "code",
   "execution_count": 36,
   "id": "f3403580",
   "metadata": {},
   "outputs": [
    {
     "data": {
      "text/plain": [
       "0.267"
      ]
     },
     "execution_count": 36,
     "metadata": {},
     "output_type": "execute_result"
    }
   ],
   "source": [
    "(4/20* 0.375 ) + ( 8/20 * 0.48)"
   ]
  },
  {
   "cell_type": "code",
   "execution_count": 37,
   "id": "13e17991",
   "metadata": {},
   "outputs": [
    {
     "data": {
      "text/plain": [
       "0.2781"
      ]
     },
     "execution_count": 37,
     "metadata": {},
     "output_type": "execute_result"
    }
   ],
   "source": [
    "1- 0.7219\n"
   ]
  },
  {
   "cell_type": "code",
   "execution_count": 38,
   "id": "6f26aae4",
   "metadata": {},
   "outputs": [
    {
     "data": {
      "text/plain": [
       "0.23650000000000004"
      ]
     },
     "execution_count": 38,
     "metadata": {},
     "output_type": "execute_result"
    }
   ],
   "source": [
    "1- 0.7635"
   ]
  },
  {
   "cell_type": "code",
   "execution_count": 39,
   "id": "289d5f98",
   "metadata": {},
   "outputs": [
    {
     "data": {
      "text/plain": [
       "0.23650000000000004"
      ]
     },
     "execution_count": 39,
     "metadata": {},
     "output_type": "execute_result"
    }
   ],
   "source": [
    "1- 0.7635"
   ]
  },
  {
   "cell_type": "code",
   "execution_count": 40,
   "id": "06e1405c",
   "metadata": {},
   "outputs": [
    {
     "data": {
      "text/plain": [
       "0.07299999999999995"
      ]
     },
     "execution_count": 40,
     "metadata": {},
     "output_type": "execute_result"
    }
   ],
   "source": [
    "0.7219 - 0.6489"
   ]
  },
  {
   "cell_type": "code",
   "execution_count": 43,
   "id": "139aabb9",
   "metadata": {},
   "outputs": [
    {
     "data": {
      "text/plain": [
       "0.9182958340544896"
      ]
     },
     "execution_count": 43,
     "metadata": {},
     "output_type": "execute_result"
    }
   ],
   "source": [
    "- 2/3* math.log(2/3,2) - 1/3* math.log(1/3,2) "
   ]
  },
  {
   "cell_type": "code",
   "execution_count": 44,
   "id": "8d219746",
   "metadata": {},
   "outputs": [
    {
     "data": {
      "text/plain": [
       "0.55092"
      ]
     },
     "execution_count": 44,
     "metadata": {},
     "output_type": "execute_result"
    }
   ],
   "source": [
    "0.9182* 3/5"
   ]
  },
  {
   "cell_type": "code",
   "execution_count": 45,
   "id": "ca701fab",
   "metadata": {},
   "outputs": [
    {
     "data": {
      "text/plain": [
       "0.17100000000000004"
      ]
     },
     "execution_count": 45,
     "metadata": {},
     "output_type": "execute_result"
    }
   ],
   "source": [
    "0.7219 - 0.5509"
   ]
  },
  {
   "cell_type": "code",
   "execution_count": 46,
   "id": "397221f0",
   "metadata": {},
   "outputs": [
    {
     "data": {
      "text/plain": [
       "0.32189999999999996"
      ]
     },
     "execution_count": 46,
     "metadata": {},
     "output_type": "execute_result"
    }
   ],
   "source": [
    "0.7219 - 0.4"
   ]
  },
  {
   "cell_type": "code",
   "execution_count": 47,
   "id": "8dacfb89",
   "metadata": {},
   "outputs": [
    {
     "data": {
      "text/plain": [
       "0.5508"
      ]
     },
     "execution_count": 47,
     "metadata": {},
     "output_type": "execute_result"
    }
   ],
   "source": [
    "3/5*0.918"
   ]
  },
  {
   "cell_type": "code",
   "execution_count": 48,
   "id": "8786cd1a",
   "metadata": {},
   "outputs": [
    {
     "data": {
      "text/plain": [
       "0.17110000000000003"
      ]
     },
     "execution_count": 48,
     "metadata": {},
     "output_type": "execute_result"
    }
   ],
   "source": [
    "0.7219 - 0.5508"
   ]
  },
  {
   "cell_type": "code",
   "execution_count": 49,
   "id": "b64745f8",
   "metadata": {},
   "outputs": [
    {
     "data": {
      "text/plain": [
       "0.48"
      ]
     },
     "execution_count": 49,
     "metadata": {},
     "output_type": "execute_result"
    }
   ],
   "source": [
    "1 - ( ( (3/5)*(3/5) ) + ( (2/5)*(2/5) ) )"
   ]
  },
  {
   "cell_type": "code",
   "execution_count": 50,
   "id": "60626c8f",
   "metadata": {},
   "outputs": [
    {
     "data": {
      "text/plain": [
       "0.48979591836734704"
      ]
     },
     "execution_count": 50,
     "metadata": {},
     "output_type": "execute_result"
    }
   ],
   "source": [
    "1 - ( ( (3/7)*(3/7) ) + ( (4/7)*(4/7) ) )"
   ]
  },
  {
   "cell_type": "code",
   "execution_count": 51,
   "id": "f61dee0e",
   "metadata": {},
   "outputs": [
    {
     "data": {
      "text/plain": [
       "0.5"
      ]
     },
     "execution_count": 51,
     "metadata": {},
     "output_type": "execute_result"
    }
   ],
   "source": [
    "1 - ( ( (2/4)*(2/4) ) + ( (2/4)*(2/4) ) )"
   ]
  },
  {
   "cell_type": "code",
   "execution_count": 52,
   "id": "c078d389",
   "metadata": {},
   "outputs": [
    {
     "data": {
      "text/plain": [
       "0.1622"
      ]
     },
     "execution_count": 52,
     "metadata": {},
     "output_type": "execute_result"
    }
   ],
   "source": [
    "( 4/20 * 0.375 )  +( 8/20 * 0.218 ) "
   ]
  },
  {
   "cell_type": "code",
   "execution_count": 53,
   "id": "c9709b89",
   "metadata": {},
   "outputs": [
    {
     "data": {
      "text/plain": [
       "0.49146499999999993"
      ]
     },
     "execution_count": 53,
     "metadata": {},
     "output_type": "execute_result"
    }
   ],
   "source": [
    "(5/20 *0.48) + (7/20 *0.4899) + (4/20 *0.5) +(4/20 *0.5)"
   ]
  },
  {
   "cell_type": "code",
   "execution_count": 54,
   "id": "04e34405",
   "metadata": {},
   "outputs": [
    {
     "data": {
      "text/plain": [
       "1.0"
      ]
     },
     "execution_count": 54,
     "metadata": {},
     "output_type": "execute_result"
    }
   ],
   "source": [
    "- 10/20* math.log(10/20, 2)- 10/20* math.log(10/20, 2)"
   ]
  },
  {
   "cell_type": "code",
   "execution_count": 13,
   "id": "c1c5a3c2",
   "metadata": {},
   "outputs": [
    {
     "data": {
      "text/plain": [
       "0.7999999999999999"
      ]
     },
     "execution_count": 13,
     "metadata": {},
     "output_type": "execute_result"
    }
   ],
   "source": [
    "0.16/0.2"
   ]
  },
  {
   "cell_type": "code",
   "execution_count": null,
   "id": "49a20a25-22d2-4334-bc88-2ee37de58ec4",
   "metadata": {},
   "outputs": [],
   "source": []
  }
 ],
 "metadata": {
  "kernelspec": {
   "display_name": "Python 3 (ipykernel)",
   "language": "python",
   "name": "python3"
  },
  "language_info": {
   "codemirror_mode": {
    "name": "ipython",
    "version": 3
   },
   "file_extension": ".py",
   "mimetype": "text/x-python",
   "name": "python",
   "nbconvert_exporter": "python",
   "pygments_lexer": "ipython3",
   "version": "3.12.1"
  }
 },
 "nbformat": 4,
 "nbformat_minor": 5
}
